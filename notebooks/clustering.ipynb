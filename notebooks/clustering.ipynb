{
 "cells": [
  {
   "cell_type": "code",
   "execution_count": 4,
   "metadata": {
    "collapsed": true
   },
   "outputs": [],
   "source": [
    "import similaritymeasures\n",
    "import numpy as np\n",
    "from sklearn_extra.cluster import KMedoids\n",
    "from sklearn.metrics import pairwise_distances\n",
    "import time\n",
    "from clustering.distances.discrete import FastDiscreteFrechetMatrix, FastDiscreteFrechetSparse, \\\n",
    "    earth_haversine, euclidean"
   ]
  },
  {
   "cell_type": "markdown",
   "source": [
    "Compute distance matrix with efficient Frechet-Distance"
   ],
   "metadata": {
    "collapsed": false,
    "pycharm": {
     "name": "#%% md\n"
    }
   }
  },
  {
   "cell_type": "code",
   "execution_count": 67,
   "outputs": [],
   "source": [
    "def compute_distance_matrix(trajectories, method=\"Frechet\"):\n",
    "    \"\"\"\n",
    "    :param method: \"Frechet\" or \"Area\"\n",
    "    \"\"\"\n",
    "    n = len(trajectories)\n",
    "    dist_m = np.zeros((n, n))\n",
    "    distance = euclidean\n",
    "    fdfdm = FastDiscreteFrechetMatrix(distance)\n",
    "    for i in range(n - 1):\n",
    "        print(i)\n",
    "        p = trajectories[i]\n",
    "        for j in range(i + 1, n):\n",
    "            q = trajectories[j]\n",
    "            if method == \"Frechet\":\n",
    "                # dist_m[i, j] = similaritymeasures.frechet_dist(p, q)\n",
    "                dist_m[i, j] = fdfdm.distance(p, q)\n",
    "            else:\n",
    "                start = time.time()\n",
    "                dist_m[i, j] = similaritymeasures.area_between_two_curves(p, q)\n",
    "                end = time.time()\n",
    "                print('Operation Time Area: {}'.format(end-start))\n",
    "            dist_m[j, i] = dist_m[i, j]\n",
    "    return dist_m"
   ],
   "metadata": {
    "collapsed": false,
    "pycharm": {
     "name": "#%%\n"
    }
   }
  },
  {
   "cell_type": "code",
   "execution_count": 68,
   "outputs": [
    {
     "name": "stdout",
     "output_type": "stream",
     "text": [
      "0\n",
      "1\n",
      "2\n",
      "3\n",
      "4\n",
      "5\n",
      "6\n",
      "7\n",
      "8\n",
      "9\n",
      "10\n",
      "11\n",
      "12\n",
      "13\n",
      "14\n",
      "15\n",
      "16\n",
      "17\n",
      "18\n",
      "19\n",
      "20\n",
      "21\n",
      "22\n"
     ]
    },
    {
     "ename": "KeyboardInterrupt",
     "evalue": "",
     "output_type": "error",
     "traceback": [
      "\u001B[0;31m---------------------------------------------------------------------------\u001B[0m",
      "\u001B[0;31mKeyboardInterrupt\u001B[0m                         Traceback (most recent call last)",
      "\u001B[0;32m<ipython-input-68-f2be6b00adfb>\u001B[0m in \u001B[0;36m<module>\u001B[0;34m\u001B[0m\n\u001B[1;32m      1\u001B[0m \u001B[0mtrajs\u001B[0m \u001B[0;34m=\u001B[0m \u001B[0mnp\u001B[0m\u001B[0;34m.\u001B[0m\u001B[0mrandom\u001B[0m\u001B[0;34m.\u001B[0m\u001B[0mrandn\u001B[0m\u001B[0;34m(\u001B[0m\u001B[0;36m300\u001B[0m\u001B[0;34m,\u001B[0m \u001B[0;36m120\u001B[0m\u001B[0;34m,\u001B[0m \u001B[0;36m3\u001B[0m\u001B[0;34m)\u001B[0m\u001B[0;34m\u001B[0m\u001B[0;34m\u001B[0m\u001B[0m\n\u001B[1;32m      2\u001B[0m \u001B[0mstart\u001B[0m \u001B[0;34m=\u001B[0m \u001B[0mtime\u001B[0m\u001B[0;34m.\u001B[0m\u001B[0mtime\u001B[0m\u001B[0;34m(\u001B[0m\u001B[0;34m)\u001B[0m\u001B[0;34m\u001B[0m\u001B[0;34m\u001B[0m\u001B[0m\n\u001B[0;32m----> 3\u001B[0;31m \u001B[0mdist_matrix\u001B[0m \u001B[0;34m=\u001B[0m \u001B[0mcompute_distance_matrix\u001B[0m\u001B[0;34m(\u001B[0m\u001B[0mtrajs\u001B[0m\u001B[0;34m)\u001B[0m\u001B[0;34m\u001B[0m\u001B[0;34m\u001B[0m\u001B[0m\n\u001B[0m\u001B[1;32m      4\u001B[0m \u001B[0mend\u001B[0m \u001B[0;34m=\u001B[0m \u001B[0mtime\u001B[0m\u001B[0;34m.\u001B[0m\u001B[0mtime\u001B[0m\u001B[0;34m(\u001B[0m\u001B[0;34m)\u001B[0m\u001B[0;34m\u001B[0m\u001B[0;34m\u001B[0m\u001B[0m\n\u001B[1;32m      5\u001B[0m \u001B[0mprint\u001B[0m\u001B[0;34m(\u001B[0m\u001B[0;34m\"Total Time : {}\"\u001B[0m\u001B[0;34m.\u001B[0m\u001B[0mformat\u001B[0m\u001B[0;34m(\u001B[0m\u001B[0mend\u001B[0m \u001B[0;34m-\u001B[0m \u001B[0mstart\u001B[0m\u001B[0;34m)\u001B[0m\u001B[0;34m)\u001B[0m\u001B[0;34m\u001B[0m\u001B[0;34m\u001B[0m\u001B[0m\n",
      "\u001B[0;32m<ipython-input-67-01433bb8bc0f>\u001B[0m in \u001B[0;36mcompute_distance_matrix\u001B[0;34m(trajectories, method)\u001B[0m\n\u001B[1;32m     14\u001B[0m             \u001B[0;32mif\u001B[0m \u001B[0mmethod\u001B[0m \u001B[0;34m==\u001B[0m \u001B[0;34m\"Frechet\"\u001B[0m\u001B[0;34m:\u001B[0m\u001B[0;34m\u001B[0m\u001B[0;34m\u001B[0m\u001B[0m\n\u001B[1;32m     15\u001B[0m                 \u001B[0;31m# dist_m[i, j] = similaritymeasures.frechet_dist(p, q)\u001B[0m\u001B[0;34m\u001B[0m\u001B[0;34m\u001B[0m\u001B[0;34m\u001B[0m\u001B[0m\n\u001B[0;32m---> 16\u001B[0;31m                 \u001B[0mdist_m\u001B[0m\u001B[0;34m[\u001B[0m\u001B[0mi\u001B[0m\u001B[0;34m,\u001B[0m \u001B[0mj\u001B[0m\u001B[0;34m]\u001B[0m \u001B[0;34m=\u001B[0m \u001B[0mfdfdm\u001B[0m\u001B[0;34m.\u001B[0m\u001B[0mdistance\u001B[0m\u001B[0;34m(\u001B[0m\u001B[0mp\u001B[0m\u001B[0;34m,\u001B[0m \u001B[0mq\u001B[0m\u001B[0;34m)\u001B[0m\u001B[0;34m\u001B[0m\u001B[0;34m\u001B[0m\u001B[0m\n\u001B[0m\u001B[1;32m     17\u001B[0m             \u001B[0;32melse\u001B[0m\u001B[0;34m:\u001B[0m\u001B[0;34m\u001B[0m\u001B[0;34m\u001B[0m\u001B[0m\n\u001B[1;32m     18\u001B[0m                 \u001B[0mstart\u001B[0m \u001B[0;34m=\u001B[0m \u001B[0mtime\u001B[0m\u001B[0;34m.\u001B[0m\u001B[0mtime\u001B[0m\u001B[0;34m(\u001B[0m\u001B[0;34m)\u001B[0m\u001B[0;34m\u001B[0m\u001B[0;34m\u001B[0m\u001B[0m\n",
      "\u001B[0;32m~/Desktop/Sesto_PPO/clustering/distances/discrete.py\u001B[0m in \u001B[0;36mdistance\u001B[0;34m(self, p, q)\u001B[0m\n\u001B[1;32m    523\u001B[0m \u001B[0;34m\u001B[0m\u001B[0m\n\u001B[1;32m    524\u001B[0m     \u001B[0;32mdef\u001B[0m \u001B[0mdistance\u001B[0m\u001B[0;34m(\u001B[0m\u001B[0mself\u001B[0m\u001B[0;34m,\u001B[0m \u001B[0mp\u001B[0m\u001B[0;34m:\u001B[0m \u001B[0mnp\u001B[0m\u001B[0;34m.\u001B[0m\u001B[0mndarray\u001B[0m\u001B[0;34m,\u001B[0m \u001B[0mq\u001B[0m\u001B[0;34m:\u001B[0m \u001B[0mnp\u001B[0m\u001B[0;34m.\u001B[0m\u001B[0mndarray\u001B[0m\u001B[0;34m)\u001B[0m \u001B[0;34m->\u001B[0m \u001B[0mfloat\u001B[0m\u001B[0;34m:\u001B[0m\u001B[0;34m\u001B[0m\u001B[0;34m\u001B[0m\u001B[0m\n\u001B[0;32m--> 525\u001B[0;31m         \u001B[0mca\u001B[0m \u001B[0;34m=\u001B[0m \u001B[0m_fdfd_matrix\u001B[0m\u001B[0;34m(\u001B[0m\u001B[0mp\u001B[0m\u001B[0;34m,\u001B[0m \u001B[0mq\u001B[0m\u001B[0;34m,\u001B[0m \u001B[0mself\u001B[0m\u001B[0;34m.\u001B[0m\u001B[0mdist_func\u001B[0m\u001B[0;34m)\u001B[0m\u001B[0;34m\u001B[0m\u001B[0;34m\u001B[0m\u001B[0m\n\u001B[0m\u001B[1;32m    526\u001B[0m         \u001B[0mself\u001B[0m\u001B[0;34m.\u001B[0m\u001B[0mca\u001B[0m \u001B[0;34m=\u001B[0m \u001B[0mca\u001B[0m\u001B[0;34m\u001B[0m\u001B[0;34m\u001B[0m\u001B[0m\n\u001B[1;32m    527\u001B[0m         \u001B[0;32mreturn\u001B[0m \u001B[0mca\u001B[0m\u001B[0;34m[\u001B[0m\u001B[0mp\u001B[0m\u001B[0;34m.\u001B[0m\u001B[0mshape\u001B[0m\u001B[0;34m[\u001B[0m\u001B[0;36m0\u001B[0m\u001B[0;34m]\u001B[0m\u001B[0;34m-\u001B[0m\u001B[0;36m1\u001B[0m\u001B[0;34m,\u001B[0m \u001B[0mq\u001B[0m\u001B[0;34m.\u001B[0m\u001B[0mshape\u001B[0m\u001B[0;34m[\u001B[0m\u001B[0;36m0\u001B[0m\u001B[0;34m]\u001B[0m\u001B[0;34m-\u001B[0m\u001B[0;36m1\u001B[0m\u001B[0;34m]\u001B[0m\u001B[0;34m\u001B[0m\u001B[0;34m\u001B[0m\u001B[0m\n",
      "\u001B[0;31mKeyboardInterrupt\u001B[0m: "
     ]
    }
   ],
   "source": [
    "trajs = np.random.randn(300, 120, 3)\n",
    "start = time.time()\n",
    "dist_matrix = compute_distance_matrix(trajs)\n",
    "end = time.time()\n",
    "print(\"Total Time : {}\".format(end - start))"
   ],
   "metadata": {
    "collapsed": false,
    "pycharm": {
     "name": "#%%\n"
    }
   }
  },
  {
   "cell_type": "markdown",
   "source": [
    "Test the efficiency of different Frechet Distances"
   ],
   "metadata": {
    "collapsed": false,
    "pycharm": {
     "name": "#%% md\n"
    }
   }
  },
  {
   "cell_type": "code",
   "execution_count": 2,
   "outputs": [
    {
     "name": "stdout",
     "output_type": "stream",
     "text": [
      "float32\n",
      "3.0097339153289795\n",
      "Total Time : 0.9428806304931641\n",
      "3.0097339153289795\n",
      "Total Time : 1.1464378833770752\n",
      "3.00973382431566\n",
      "Total Time : 2.7458174228668213\n"
     ]
    }
   ],
   "source": [
    "distance = euclidean\n",
    "fdfdm = FastDiscreteFrechetMatrix(distance)\n",
    "sdsd = FastDiscreteFrechetSparse(distance)\n",
    "t0 = np.random.randn(500, 3)\n",
    "t1 = np.random.randn(500, 3)\n",
    "t0 = t0.astype(np.float32)\n",
    "t1 = t1.astype(np.float32)\n",
    "print(t0.dtype)\n",
    "start = time.time()\n",
    "print(fdfdm.distance(t0, t1))\n",
    "end = time.time()\n",
    "print(\"Total Time : {}\".format(end - start))\n",
    "start = time.time()\n",
    "print(sdsd.distance(t0, t1))\n",
    "end = time.time()\n",
    "print(\"Total Time : {}\".format(end - start))\n",
    "start = time.time()\n",
    "print(similaritymeasures.frechet_dist(t0, t1))\n",
    "end = time.time()\n",
    "print(\"Total Time : {}\".format(end - start))"
   ],
   "metadata": {
    "collapsed": false,
    "pycharm": {
     "name": "#%%\n"
    }
   }
  },
  {
   "cell_type": "code",
   "execution_count": null,
   "outputs": [],
   "source": [
    "clusterer = KMedoids(20, metric='precomputed')\n",
    "clusterer.fit(dist_matrix)"
   ],
   "metadata": {
    "collapsed": false,
    "pycharm": {
     "name": "#%%\n"
    }
   }
  },
  {
   "cell_type": "markdown",
   "source": [
    "Pairwise Distances with Custom Distance"
   ],
   "metadata": {
    "collapsed": false,
    "pycharm": {
     "name": "#%% md\n"
    }
   }
  },
  {
   "cell_type": "code",
   "execution_count": 16,
   "outputs": [
    {
     "name": "stdout",
     "output_type": "stream",
     "text": [
      "(1, 19)\n"
     ]
    }
   ],
   "source": [
    "distance = euclidean\n",
    "fdfdm = FastDiscreteFrechetSparse(distance)\n",
    "trajs = np.random.randn(20, 500, 3)\n",
    "\n",
    "#all_distances = pairwise_distances([trajs[0]], trajs[1:])\n",
    "\n",
    "all_distances = [[]]\n",
    "for tr in trajs[1:]:\n",
    "    all_distances[0].append(fdfdm.distance(trajs[0], tr))\n",
    "print(np.shape(all_distances))\n"
   ],
   "metadata": {
    "collapsed": false,
    "pycharm": {
     "name": "#%%\n"
    }
   }
  }
 ],
 "metadata": {
  "kernelspec": {
   "display_name": "Python 3",
   "language": "python",
   "name": "python3"
  },
  "language_info": {
   "codemirror_mode": {
    "name": "ipython",
    "version": 2
   },
   "file_extension": ".py",
   "mimetype": "text/x-python",
   "name": "python",
   "nbconvert_exporter": "python",
   "pygments_lexer": "ipython2",
   "version": "2.7.6"
  }
 },
 "nbformat": 4,
 "nbformat_minor": 0
}