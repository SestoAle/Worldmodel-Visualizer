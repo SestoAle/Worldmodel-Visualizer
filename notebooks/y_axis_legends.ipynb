{
 "cells": [
  {
   "cell_type": "code",
   "execution_count": 85,
   "metadata": {
    "collapsed": true
   },
   "outputs": [],
   "source": [
    "import matplotlib.pyplot as plt\n",
    "import matplotlib.cm as cm\n",
    "import seaborn\n",
    "import numpy as np\n",
    "cmap = cm.get_cmap('tab10')"
   ]
  },
  {
   "cell_type": "code",
   "execution_count": 86,
   "outputs": [
    {
     "name": "stdout",
     "output_type": "stream",
     "text": [
      "[5 9 8 7 6 2 3 9 2 5 3 6 0 7 7 0 6 7 4 0 5 6 7 3 2 0 7 3 6 0 4 1 1 5 0 7 6\n",
      " 9 6 5 1 6 2 8 4 9 9 7 1 1 7 1 7 7 4 8 0 8 0 7 9 5 4 7 4 3 4 2 8 4 8 0 1 7\n",
      " 2 1 4 7 1 3 5 8 2 7 5 2 2 9 3 9 6 0 9 4 2 0 4 0 7 3]\n"
     ]
    }
   ],
   "source": [
    "y = np.random.randint(0, 10, 100)\n",
    "x = np.arange(100)\n",
    "print(y)"
   ],
   "metadata": {
    "collapsed": false,
    "pycharm": {
     "name": "#%%\n"
    }
   }
  },
  {
   "cell_type": "code",
   "execution_count": 87,
   "outputs": [
    {
     "data": {
      "text/plain": "<Figure size 432x288 with 1 Axes>",
      "image/png": "[encoded data removed]"
     },
     "metadata": {
      "needs_background": "light"
     },
     "output_type": "display_data"
    }
   ],
   "source": [
    "fig = plt.figure()\n",
    "axes = plt.subplot()\n",
    "# plt.axis('off')\n",
    "plt.subplots_adjust(left=0, right=1, top=1, bottom=0)"
   ],
   "metadata": {
    "collapsed": false,
    "pycharm": {
     "name": "#%%\n"
    }
   }
  },
  {
   "cell_type": "code",
   "execution_count": 90,
   "outputs": [
    {
     "data": {
      "text/plain": "<matplotlib.collections.PathCollection at 0x7fb1c9ca1410>"
     },
     "execution_count": 90,
     "metadata": {},
     "output_type": "execute_result"
    },
    {
     "data": {
      "text/plain": "<Figure size 432x288 with 1 Axes>",
      "image/png": "[encoded data removed]"
     },
     "metadata": {
      "needs_background": "light"
     },
     "output_type": "display_data"
    }
   ],
   "source": [
    "# axes.clear()\n",
    "colors = []\n",
    "for p in y:\n",
    "    colors.append(cmap(p))\n",
    "plt.scatter(x, y, c=colors, s=10, marker='s')\n",
    "# plt.set_xlim(0, 100)"
   ],
   "metadata": {
    "collapsed": false,
    "pycharm": {
     "name": "#%%\n"
    }
   }
  },
  {
   "cell_type": "code",
   "execution_count": 89,
   "outputs": [],
   "source": [
    "plt.show()\n"
   ],
   "metadata": {
    "collapsed": false,
    "pycharm": {
     "name": "#%%\n"
    }
   }
  }
 ],
 "metadata": {
  "kernelspec": {
   "display_name": "Python 3",
   "language": "python",
   "name": "python3"
  },
  "language_info": {
   "codemirror_mode": {
    "name": "ipython",
    "version": 2
   },
   "file_extension": ".py",
   "mimetype": "text/x-python",
   "name": "python",
   "nbconvert_exporter": "python",
   "pygments_lexer": "ipython2",
   "version": "2.7.6"
  }
 },
 "nbformat": 4,
 "nbformat_minor": 0
}