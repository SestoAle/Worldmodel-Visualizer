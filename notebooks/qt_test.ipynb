{
 "cells": [
  {
   "cell_type": "markdown",
   "source": [
    "Import QT"
   ],
   "metadata": {
    "collapsed": false,
    "pycharm": {
     "name": "#%% md\n"
    }
   }
  },
  {
   "cell_type": "code",
   "execution_count": 1,
   "outputs": [],
   "source": [
    "from PyQt5 import QtWidgets\n",
    "from PyQt5.QtCore import QDateTime, Qt, QTimer, QObject\n",
    "from PyQt5.QtWidgets import (QApplication, QCheckBox, QComboBox, QDateTimeEdit,\n",
    "        QDial, QDialog, QGridLayout, QGroupBox, QHBoxLayout, QLabel, QLineEdit,\n",
    "        QProgressBar, QPushButton, QRadioButton, QScrollBar, QSizePolicy,\n",
    "        QSlider, QSpinBox, QStyleFactory, QTableWidget, QTabWidget, QTextEdit,\n",
    "        QVBoxLayout, QWidget, QFrame, QStackedLayout, QListView, QTreeView,\n",
    "                             QMainWindow)\n",
    "from PyQt5.Qt import QStandardItemModel, QStandardItem\n",
    "import sys\n",
    "import numpy as np"
   ],
   "metadata": {
    "collapsed": false,
    "pycharm": {
     "name": "#%%\n"
    }
   }
  },
  {
   "cell_type": "markdown",
   "source": [
    "Create application"
   ],
   "metadata": {
    "collapsed": false,
    "pycharm": {
     "name": "#%% md\n"
    }
   }
  },
  {
   "cell_type": "code",
   "execution_count": 2,
   "outputs": [],
   "source": [
    "class AppDemo(QDialog):\n",
    "    def __init__(self):\n",
    "        super().__init__()\n",
    "        self.setWindowTitle('World Country Diagram')\n",
    "        self.resize(500, 700)\n",
    "\n",
    "        self.mainLayout = QVBoxLayout()\n",
    "\n",
    "        self.treeView = QTreeView()\n",
    "        self.treeView.setHeaderHidden(True)\n",
    "        treeModel = QStandardItemModel()\n",
    "        rootNode = treeModel.invisibleRootItem()\n",
    "\n",
    "        traj = QStandardItem('Traj')\n",
    "        traj.setEditable(False)\n",
    "\n",
    "        traj1 = QStandardItem('Traj')\n",
    "        traj.setEditable(False)\n",
    "\n",
    "        traj2 = QStandardItem('Traj')\n",
    "        traj.setEditable(False)\n",
    "\n",
    "        traj3 = QStandardItem('Traj')\n",
    "        traj.setEditable(False)\n",
    "\n",
    "        traj4 = QStandardItem('Traj')\n",
    "        traj.setEditable(False)\n",
    "\n",
    "        sub_traj = QStandardItem('Traj_1')\n",
    "        sub_traj.setData(np.random.randn(100))\n",
    "        sub_traj.setEditable(False)\n",
    "\n",
    "        traj.appendRow(sub_traj)\n",
    "\n",
    "        rootNode.appendRow(traj)\n",
    "        rootNode.appendRow(traj2)\n",
    "        rootNode.appendRow(traj3)\n",
    "        rootNode.appendRow(traj4)\n",
    "        rootNode.appendRow(traj1)\n",
    "        self.treeView.setModel(treeModel)\n",
    "        self.treeView.expandAll()\n",
    "\n",
    "        self.treeView.clicked.connect(self.selected)\n",
    "        self.treeView.selectionModel().selectionChanged.connect(self.highlight)\n",
    "\n",
    "        self.button = QPushButton('asdkjh')\n",
    "        self.button.pressed.connect(self.randomSelection)\n",
    "\n",
    "        self.mainLayout.addWidget(self.treeView)\n",
    "        self.mainLayout.addWidget(self.button)\n",
    "\n",
    "        self.setLayout(self.mainLayout)\n",
    "\n",
    "    def randomSelection(self):\n",
    "        index = np.random.randint(0, 5)\n",
    "        self.treeView.setCurrentIndex(self.treeView.model().index(index, 0))\n",
    "\n",
    "    def highlight(self, item):\n",
    "        item.indexes()\n",
    "        self.selected(item.indexes()[0])\n",
    "\n",
    "    def selected(self, index):\n",
    "        print(index.parent().row())\n",
    "        if index.parent().row() >= 0:\n",
    "            print('asdjkh')\n",
    "            data = self.treeView.model().itemFromIndex(index).data()\n",
    "            print(data)\n",
    "            self.treeView.model().clear()"
   ],
   "metadata": {
    "collapsed": false,
    "pycharm": {
     "name": "#%%\n"
    }
   }
  },
  {
   "cell_type": "code",
   "execution_count": 3,
   "outputs": [
    {
     "name": "stdout",
     "output_type": "stream",
     "text": [
      "0\n",
      "asdjkh\n",
      "[ 1.16364923e-01 -1.08279346e+00 -1.58826227e-01 -3.22828889e-01\n",
      "  1.51648807e+00  1.83389978e-01 -1.02846574e+00 -1.57500709e+00\n",
      "  8.25110947e-01  5.19247367e-01  1.29946970e+00 -7.80165038e-02\n",
      " -5.73113764e-01  1.32746399e-01 -4.56020206e-01  5.69009429e-01\n",
      " -7.58288938e-02 -2.51881127e-01  1.64641948e+00 -2.60355019e+00\n",
      "  9.46457726e-01  1.42700618e-01  5.93779510e-01 -1.71707774e-02\n",
      " -3.21389144e-01 -1.55372192e+00  1.14167968e+00 -1.43900776e+00\n",
      " -5.93178349e-01 -2.46680538e-01 -9.51990214e-01 -8.10702436e-01\n",
      "  9.42453092e-01 -2.70517580e-01  8.02476204e-01  9.24428341e-01\n",
      "  2.07036122e+00  2.13033814e-01  8.13414192e-01 -5.87316876e-01\n",
      " -7.54976053e-01  6.45267656e-01 -2.09997349e-01 -4.56806602e-01\n",
      "  1.25880629e+00 -1.41520682e+00 -5.13062832e-02 -8.38072104e-01\n",
      "  1.90939807e-01 -6.12712815e-01  6.73376612e-01  2.25850645e-04\n",
      "  1.95932620e+00 -7.25330417e-01  1.60486041e+00 -6.58748774e-02\n",
      " -1.58457545e+00  1.94971737e+00 -3.49437572e-02  5.46503836e-01\n",
      "  3.78899949e-01 -1.97325798e+00  4.71775806e-01  9.39473166e-02\n",
      " -1.21161434e+00 -7.98262000e-03  2.34409826e+00  3.79312862e-01\n",
      " -2.36658522e-02 -7.95412423e-01  2.55796033e-01  1.58902165e+00\n",
      "  1.80883768e+00  7.69385015e-01 -7.41233586e-01  3.94349747e-01\n",
      " -4.82997583e-01 -2.65491478e-01 -1.30810309e+00  5.66164805e-01\n",
      "  1.83508066e-01  1.34285643e-01  7.57073926e-01 -9.39367057e-01\n",
      " -7.15669352e-01  3.01404417e-01 -2.75018302e-02  8.17533215e-01\n",
      " -7.77465219e-02  6.87451300e-01  1.92189420e-01 -9.23674112e-01\n",
      " -1.88002644e+00 -3.61769647e-01 -1.29014951e-01 -1.99259756e-01\n",
      "  1.30456063e+00  1.22322393e+00  3.40815171e-01 -6.95610140e-01]\n"
     ]
    },
    {
     "ename": "SystemExit",
     "evalue": "0",
     "output_type": "error",
     "traceback": [
      "An exception has occurred, use %tb to see the full traceback.\n",
      "\u001B[0;31mSystemExit\u001B[0m\u001B[0;31m:\u001B[0m 0\n"
     ]
    },
    {
     "name": "stderr",
     "output_type": "stream",
     "text": [
      "/home/ale/miniconda3/envs/dc/lib/python3.6/site-packages/IPython/core/interactiveshell.py:3351: UserWarning: To exit: use 'exit', 'quit', or Ctrl-D.\n",
      "  warn(\"To exit: use 'exit', 'quit', or Ctrl-D.\", stacklevel=1)\n"
     ]
    }
   ],
   "source": [
    "app = QApplication(sys.argv)\n",
    "\n",
    "demo = AppDemo()\n",
    "demo.show()\n",
    "\n",
    "sys.exit(app.exec_())"
   ],
   "metadata": {
    "collapsed": false,
    "pycharm": {
     "name": "#%%\n"
    }
   }
  }
 ],
 "metadata": {
  "kernelspec": {
   "display_name": "Python 3",
   "language": "python",
   "name": "python3"
  },
  "language_info": {
   "codemirror_mode": {
    "name": "ipython",
    "version": 2
   },
   "file_extension": ".py",
   "mimetype": "text/x-python",
   "name": "python",
   "nbconvert_exporter": "python",
   "pygments_lexer": "ipython2",
   "version": "2.7.6"
  }
 },
 "nbformat": 4,
 "nbformat_minor": 0
}